{
 "cells": [
  {
   "cell_type": "code",
   "execution_count": 1,
   "metadata": {},
   "outputs": [],
   "source": [
    "import pandas as pd"
   ]
  },
  {
   "cell_type": "code",
   "execution_count": 2,
   "metadata": {},
   "outputs": [
    {
     "data": {
      "text/html": [
       "<div>\n",
       "<style scoped>\n",
       "    .dataframe tbody tr th:only-of-type {\n",
       "        vertical-align: middle;\n",
       "    }\n",
       "\n",
       "    .dataframe tbody tr th {\n",
       "        vertical-align: top;\n",
       "    }\n",
       "\n",
       "    .dataframe thead th {\n",
       "        text-align: right;\n",
       "    }\n",
       "</style>\n",
       "<table border=\"1\" class=\"dataframe\">\n",
       "  <thead>\n",
       "    <tr style=\"text-align: right;\">\n",
       "      <th></th>\n",
       "      <th>col</th>\n",
       "    </tr>\n",
       "  </thead>\n",
       "  <tbody>\n",
       "    <tr>\n",
       "      <th>0</th>\n",
       "      <td>1</td>\n",
       "    </tr>\n",
       "    <tr>\n",
       "      <th>1</th>\n",
       "      <td>2</td>\n",
       "    </tr>\n",
       "    <tr>\n",
       "      <th>2</th>\n",
       "      <td>3</td>\n",
       "    </tr>\n",
       "  </tbody>\n",
       "</table>\n",
       "</div>"
      ],
      "text/plain": [
       "   col\n",
       "0    1\n",
       "1    2\n",
       "2    3"
      ]
     },
     "execution_count": 2,
     "metadata": {},
     "output_type": "execute_result"
    }
   ],
   "source": [
    "df = pd.DataFrame({\"col\": [1,2,3]})\n",
    "df"
   ]
  },
  {
   "cell_type": "code",
   "execution_count": 3,
   "metadata": {},
   "outputs": [
    {
     "data": {
      "text/plain": [
       "pandas.core.series.Series"
      ]
     },
     "execution_count": 3,
     "metadata": {},
     "output_type": "execute_result"
    }
   ],
   "source": [
    "type(df['col'])"
   ]
  },
  {
   "cell_type": "code",
   "execution_count": 4,
   "metadata": {},
   "outputs": [
    {
     "ename": "AttributeError",
     "evalue": "'list' object has no attribute 'items'",
     "output_type": "error",
     "traceback": [
      "\u001b[0;31m---------------------------------------------------------------------------\u001b[0m",
      "\u001b[0;31mAttributeError\u001b[0m                            Traceback (most recent call last)",
      "\u001b[0;32m<ipython-input-4-678c0dfcdb36>\u001b[0m in \u001b[0;36m<module>\u001b[0;34m\u001b[0m\n\u001b[1;32m      1\u001b[0m \u001b[0ml\u001b[0m \u001b[0;34m=\u001b[0m \u001b[0;34m[\u001b[0m\u001b[0;34m]\u001b[0m\u001b[0;34m\u001b[0m\u001b[0;34m\u001b[0m\u001b[0m\n\u001b[0;32m----> 2\u001b[0;31m \u001b[0ml\u001b[0m\u001b[0;34m.\u001b[0m\u001b[0mitems\u001b[0m\u001b[0;34m(\u001b[0m\u001b[0;34m)\u001b[0m\u001b[0;34m\u001b[0m\u001b[0;34m\u001b[0m\u001b[0m\n\u001b[0m",
      "\u001b[0;31mAttributeError\u001b[0m: 'list' object has no attribute 'items'"
     ]
    }
   ],
   "source": [
    "l = []\n",
    "l.items()"
   ]
  },
  {
   "cell_type": "code",
   "execution_count": 28,
   "metadata": {},
   "outputs": [
    {
     "name": "stderr",
     "output_type": "stream",
     "text": [
      "[nltk_data] Downloading package stopwords to\n",
      "[nltk_data]     /Users/pratyushsingh/nltk_data...\n",
      "[nltk_data]   Package stopwords is already up-to-date!\n",
      "[nltk_data] Downloading package punkt to\n",
      "[nltk_data]     /Users/pratyushsingh/nltk_data...\n",
      "[nltk_data]   Package punkt is already up-to-date!\n"
     ]
    }
   ],
   "source": [
    "import nltk\n",
    "from nltk.collocations import *\n",
    "from nltk import word_tokenize\n",
    "from nltk.corpus import stopwords\n",
    "from wordcloud import WordCloud, STOPWORDS\n",
    "\n",
    "nltk.download('stopwords')\n",
    "nltk.download('punkt')\n",
    "stopset = set(stopwords.words('english'))\n",
    "\n",
    "\n",
    "stops = [word for word in stopwords.words('english')]\n",
    "bigram_measures = nltk.collocations.BigramAssocMeasures()\n",
    "trigram_measures = nltk.collocations.TrigramAssocMeasures()\n",
    "\n",
    "def _stopwords(extend_stopwords=None) -> list:\n",
    "    if type(extend_stopwords) == list:\n",
    "        stops.extend(extend_stopwords)\n",
    "    if type(extend_stopwords) == str:\n",
    "        stops.append(extend_stopwords)\n",
    "    \n",
    "    return stops\n",
    "    \n",
    "def _collocations(text:str) -> str:\n",
    "    \"\"\"This is a helper function that creates bigrams out of the text.\n",
    "    \n",
    "    Collocations are bigrams that are paired together based on a\n",
    "    similarity score. This is an effort to construct useful bigrams.\n",
    "    \n",
    "        Args:\n",
    "            text: string that needs to be turned into bigrams\n",
    "        \n",
    "        Returns:\n",
    "            str: returns the bigrams if found or returns the unigram text\n",
    "    \"\"\"\n",
    "    filter_stops = lambda w: len(w) < 3 or w in stops\n",
    "    uncovered_words = [word for word in word_tokenize(text) if word.lower() not in stops]\n",
    "    finder = BigramCollocationFinder.from_words(uncovered_words)\n",
    "    finder.apply_word_filter(filter_stops)\n",
    "    bigram = finder.nbest(bigram_measures.pmi, 1)\n",
    "    \n",
    "    if not bigram:\n",
    "        return text\n",
    "    \n",
    "    return f\"{bigram[0][0]}_{bigram[0][1]}\"\n",
    "\n",
    "def _create_bigrams(col: pd.Series) -> list:\n",
    "    \"\"\" Helper function to take the column of text and return the bigrams \n",
    "    based on the input text\n",
    "    \n",
    "    Args:\n",
    "        df: column of text such as df['input_text']\n",
    "    \n",
    "    Returns:\n",
    "        bigrams: list of bigrams and in some cases unigrams (when bigrams don't exist)\n",
    "    \"\"\"\n",
    "    \n",
    "    if type(col) != pd.core.series.Series:\n",
    "        raise TypeError(\"The parameter passed must be a Series object.Pass the column you wish to create n-grams out of.\")\n",
    "    try:\n",
    "        bigrams = []\n",
    "        for index, value in col.items():\n",
    "            bigram = _collocations(value)\n",
    "            bigrams.append(bigram)\n",
    "\n",
    "        return bigrams\n",
    "    except Exception as e:\n",
    "        print(e)\n",
    "    \n",
    "def runner(col: pd.Series, stopwords=None):\n",
    "    _stopwords(stopwords)\n",
    "    return _create_bigrams(col)"
   ]
  },
  {
   "cell_type": "code",
   "execution_count": 30,
   "metadata": {},
   "outputs": [
    {
     "data": {
      "text/plain": [
       "['name_prat', 'balance_low']"
      ]
     },
     "execution_count": 30,
     "metadata": {},
     "output_type": "execute_result"
    }
   ],
   "source": [
    "df = pd.DataFrame({\"input_text\": [\"my name is prat\", \"hello my balance is low\"]})\n",
    "runner(df['input_text'])"
   ]
  },
  {
   "cell_type": "code",
   "execution_count": 11,
   "metadata": {},
   "outputs": [
    {
     "data": {
      "text/plain": [
       "pandas.core.series.Series"
      ]
     },
     "execution_count": 11,
     "metadata": {},
     "output_type": "execute_result"
    }
   ],
   "source": [
    "type(df['input_text'])"
   ]
  },
  {
   "cell_type": "code",
   "execution_count": null,
   "metadata": {},
   "outputs": [],
   "source": []
  }
 ],
 "metadata": {
  "kernelspec": {
   "display_name": "Python 3",
   "language": "python",
   "name": "python3"
  },
  "language_info": {
   "codemirror_mode": {
    "name": "ipython",
    "version": 3
   },
   "file_extension": ".py",
   "mimetype": "text/x-python",
   "name": "python",
   "nbconvert_exporter": "python",
   "pygments_lexer": "ipython3",
   "version": "3.7.4"
  }
 },
 "nbformat": 4,
 "nbformat_minor": 2
}
